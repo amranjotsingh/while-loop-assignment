{
 "cells": [
  {
   "cell_type": "code",
   "execution_count": 1,
   "id": "00fcd353-1ccd-47a2-aed2-e4bf82e8437a",
   "metadata": {},
   "outputs": [],
   "source": [
    "#  Question first"
   ]
  },
  {
   "cell_type": "code",
   "execution_count": 2,
   "id": "2b66069a-3e59-495c-a80e-be2b4befe7e1",
   "metadata": {},
   "outputs": [],
   "source": [
    "# def keyword is use to create function in python"
   ]
  },
  {
   "cell_type": "code",
   "execution_count": 1,
   "id": "1a9c1297-2360-4e27-975d-be59ba3c178e",
   "metadata": {},
   "outputs": [],
   "source": [
    "l = list(range(1,23))\n",
    "    \n",
    "             "
   ]
  },
  {
   "cell_type": "code",
   "execution_count": 9,
   "id": "45f6f9cb-7ec1-460b-b5e3-54096c334da8",
   "metadata": {},
   "outputs": [],
   "source": [
    "l2 = []\n",
    "def odd_num():\n",
    "    for i in l:\n",
    "        if i%2 !=0:\n",
    "            print(i)\n",
    "            l2.append(i)\n",
    "\n",
    "\n",
    "            "
   ]
  },
  {
   "cell_type": "code",
   "execution_count": 8,
   "id": "900c429b-931d-4c7b-87b1-592a94c22e3b",
   "metadata": {},
   "outputs": [
    {
     "name": "stdout",
     "output_type": "stream",
     "text": [
      "1\n",
      "3\n",
      "5\n",
      "7\n",
      "9\n",
      "11\n",
      "13\n",
      "15\n",
      "17\n",
      "19\n",
      "21\n"
     ]
    }
   ],
   "source": [
    "odd_num()"
   ]
  },
  {
   "cell_type": "code",
   "execution_count": 1,
   "id": "fb8ba846-4438-40d5-91a7-2400a0e8b480",
   "metadata": {},
   "outputs": [],
   "source": [
    "# Question Number 2"
   ]
  },
  {
   "cell_type": "code",
   "execution_count": 3,
   "id": "e12c7d5e-cac7-4f79-9a0e-4bd326a42b00",
   "metadata": {},
   "outputs": [],
   "source": [
    "# When writing a function, we often need to pass values to function. These valuescalled function arguments.\n",
    "# We can use args and kwargs as arguments of a function When you are unsure about the number of arguments to pass in the function."
   ]
  },
  {
   "cell_type": "code",
   "execution_count": 8,
   "id": "40c1d368-9e95-409a-b249-6d46ed0b3123",
   "metadata": {},
   "outputs": [],
   "source": [
    "def sum_num(*args):\n",
    "    return sum(args)"
   ]
  },
  {
   "cell_type": "code",
   "execution_count": 9,
   "id": "6826d2b1-89e4-4312-a821-609cec85bad5",
   "metadata": {},
   "outputs": [
    {
     "data": {
      "text/plain": [
       "9250"
      ]
     },
     "execution_count": 9,
     "metadata": {},
     "output_type": "execute_result"
    }
   ],
   "source": [
    "sum_num(44,55,88,996,1123,6944)"
   ]
  },
  {
   "cell_type": "code",
   "execution_count": 13,
   "id": "88739967-8d19-4237-98b1-51cff8f4fb51",
   "metadata": {},
   "outputs": [],
   "source": [
    "def test1(**kwargs):\n",
    "    return kwargs"
   ]
  },
  {
   "cell_type": "code",
   "execution_count": 16,
   "id": "14dce66c-d459-4c65-8e34-7481805d6b30",
   "metadata": {},
   "outputs": [
    {
     "data": {
      "text/plain": [
       "{'a': 'Maths', 'b': 'Science', 'c': 'Computer'}"
      ]
     },
     "execution_count": 16,
     "metadata": {},
     "output_type": "execute_result"
    }
   ],
   "source": [
    "test1(a = \"Maths\", b = \"Science\", c = \"Computer\")"
   ]
  },
  {
   "cell_type": "code",
   "execution_count": 17,
   "id": "7238397e-878d-4e82-8ea0-2a63a23da9e5",
   "metadata": {},
   "outputs": [],
   "source": [
    "# Question no 3"
   ]
  },
  {
   "cell_type": "code",
   "execution_count": 18,
   "id": "7062e67d-3e7d-480b-96c3-ed4ab2494dce",
   "metadata": {},
   "outputs": [],
   "source": [
    "# An iterator is an object that contains a countable number of values. \n",
    "# An iterator is an object that can be iterated upon, meaning that you can traverse through all the values. Technically, \n",
    "# in Python, an iterator is an object which implements the iterator protocol, which consist of the methods __iter__() and __next__()."
   ]
  },
  {
   "cell_type": "code",
   "execution_count": 19,
   "id": "c80d3fc5-38d4-4547-8a9d-7580146c2a4f",
   "metadata": {},
   "outputs": [],
   "source": [
    "# The iterator object is initialized using the iter() method. It uses the next() method for iteration."
   ]
  },
  {
   "cell_type": "code",
   "execution_count": 23,
   "id": "9f0550e7-0d4b-4aa2-85e8-6aad563add58",
   "metadata": {},
   "outputs": [],
   "source": [
    "l3 = iter([2, 4, 6, 8, 10, 12, 14, 16, 18, 20])"
   ]
  },
  {
   "cell_type": "code",
   "execution_count": 24,
   "id": "cbdc5beb-978f-4f3d-abbe-9a3627c9be89",
   "metadata": {},
   "outputs": [
    {
     "name": "stdout",
     "output_type": "stream",
     "text": [
      "4\n",
      "8\n",
      "12\n",
      "16\n",
      "20\n"
     ]
    }
   ],
   "source": [
    "for i in l3:\n",
    "    print(next(l3))"
   ]
  },
  {
   "cell_type": "code",
   "execution_count": 25,
   "id": "3f4d93c5-a0dc-4cd2-9d32-53fab215a828",
   "metadata": {},
   "outputs": [],
   "source": [
    "# Question no 4"
   ]
  },
  {
   "cell_type": "code",
   "execution_count": 26,
   "id": "62e2972d-ad06-47ab-8615-d8d17981f128",
   "metadata": {},
   "outputs": [],
   "source": [
    "# In Python, a generator is a function that returns an iterator that produces a sequence of values when iterated over.\n",
    "# Generators are useful when we want to produce a large sequence of values, but we don't want to store all of them in memory at once."
   ]
  },
  {
   "cell_type": "code",
   "execution_count": 27,
   "id": "3ce9f16c-8c6e-4ea2-b852-e8c78826c933",
   "metadata": {},
   "outputs": [],
   "source": [
    "# yield keyword is used to create a generator function. A type of function that is memory efficient and can be used like an iterator object."
   ]
  },
  {
   "cell_type": "code",
   "execution_count": 3,
   "id": "0484f922-94f9-46ec-86c5-2e61b66d4b16",
   "metadata": {},
   "outputs": [],
   "source": [
    "def test3(n):\n",
    "    a = 0\n",
    "    b = 1\n",
    "    for i in range(n):\n",
    "        yield a\n",
    "        a,b = b , a+b"
   ]
  },
  {
   "cell_type": "code",
   "execution_count": 4,
   "id": "cdc56327-b542-456a-af3e-e42d1a71348a",
   "metadata": {},
   "outputs": [
    {
     "data": {
      "text/plain": [
       "<generator object test3 at 0x7fa51c25eb90>"
      ]
     },
     "execution_count": 4,
     "metadata": {},
     "output_type": "execute_result"
    }
   ],
   "source": [
    "test3(10)"
   ]
  },
  {
   "cell_type": "code",
   "execution_count": 8,
   "id": "7006cd61-bcdd-436a-a8cf-cb3a8025de81",
   "metadata": {},
   "outputs": [
    {
     "name": "stdout",
     "output_type": "stream",
     "text": [
      "0\n",
      "1\n",
      "1\n",
      "2\n",
      "3\n",
      "5\n",
      "8\n",
      "13\n",
      "21\n",
      "34\n"
     ]
    }
   ],
   "source": [
    "for i in test3(10):\n",
    "    print(i)"
   ]
  },
  {
   "cell_type": "code",
   "execution_count": 9,
   "id": "28b41b62-3aac-4fc4-9ddf-19e3dd9c0e87",
   "metadata": {},
   "outputs": [],
   "source": [
    "# Question no 5"
   ]
  },
  {
   "cell_type": "code",
   "execution_count": 86,
   "id": "7c74615e-cf72-4e71-aa09-0c03be5409e4",
   "metadata": {},
   "outputs": [],
   "source": [
    "def prime_no(n):\n",
    "    \n",
    "    for i in range(n):\n",
    "        if i%i == 0 or i%1 ==0:\n",
    "            yield i\n"
   ]
  },
  {
   "cell_type": "code",
   "execution_count": 85,
   "id": "f34450c8-4e5d-4a08-ab7c-6011f19f7d08",
   "metadata": {},
   "outputs": [
    {
     "data": {
      "text/plain": [
       "<generator object prime_no at 0x7fa4fec90740>"
      ]
     },
     "execution_count": 85,
     "metadata": {},
     "output_type": "execute_result"
    }
   ],
   "source": [
    "prime_no(10)"
   ]
  },
  {
   "cell_type": "code",
   "execution_count": 87,
   "id": "5017ba8e-afca-471b-a461-916fb722d74a",
   "metadata": {},
   "outputs": [
    {
     "ename": "ZeroDivisionError",
     "evalue": "integer division or modulo by zero",
     "output_type": "error",
     "traceback": [
      "\u001b[0;31m---------------------------------------------------------------------------\u001b[0m",
      "\u001b[0;31mZeroDivisionError\u001b[0m                         Traceback (most recent call last)",
      "Cell \u001b[0;32mIn[87], line 1\u001b[0m\n\u001b[0;32m----> 1\u001b[0m \u001b[38;5;28;01mfor\u001b[39;00m i \u001b[38;5;129;01min\u001b[39;00m prime_no(\u001b[38;5;241m10\u001b[39m):\n\u001b[1;32m      2\u001b[0m     \u001b[38;5;28mprint\u001b[39m(i)\n",
      "Cell \u001b[0;32mIn[86], line 4\u001b[0m, in \u001b[0;36mprime_no\u001b[0;34m(n)\u001b[0m\n\u001b[1;32m      1\u001b[0m \u001b[38;5;28;01mdef\u001b[39;00m \u001b[38;5;21mprime_no\u001b[39m(n):\n\u001b[1;32m      3\u001b[0m     \u001b[38;5;28;01mfor\u001b[39;00m i \u001b[38;5;129;01min\u001b[39;00m \u001b[38;5;28mrange\u001b[39m(n):\n\u001b[0;32m----> 4\u001b[0m         \u001b[38;5;28;01mif\u001b[39;00m \u001b[43mi\u001b[49m\u001b[38;5;241;43m%\u001b[39;49m\u001b[43mi\u001b[49m \u001b[38;5;241m==\u001b[39m \u001b[38;5;241m0\u001b[39m \u001b[38;5;129;01mor\u001b[39;00m i\u001b[38;5;241m%\u001b[39m\u001b[38;5;241m1\u001b[39m \u001b[38;5;241m==\u001b[39m\u001b[38;5;241m0\u001b[39m:\n\u001b[1;32m      5\u001b[0m             \u001b[38;5;28;01myield\u001b[39;00m i\n",
      "\u001b[0;31mZeroDivisionError\u001b[0m: integer division or modulo by zero"
     ]
    }
   ],
   "source": [
    "for i in prime_no(10):\n",
    "    print(i)"
   ]
  },
  {
   "cell_type": "code",
   "execution_count": 50,
   "id": "abb41acd-655c-45c3-9513-db2f0406feae",
   "metadata": {},
   "outputs": [],
   "source": [
    "# Question no 6"
   ]
  },
  {
   "cell_type": "code",
   "execution_count": 52,
   "id": "d9ddf653-9a53-4ee8-b83c-9fcac518fa61",
   "metadata": {},
   "outputs": [],
   "source": [
    "def fib_no(n):\n",
    "    a,b = 0,1\n",
    "    count = 1\n",
    "    while count <=n:\n",
    "        yield a\n",
    "        a,b = b,a+b\n",
    "        count = count+1\n",
    "    "
   ]
  },
  {
   "cell_type": "code",
   "execution_count": 54,
   "id": "dc7680e7-e7e9-4b65-a7d5-51e9264e27e5",
   "metadata": {},
   "outputs": [],
   "source": [
    "a=fib_no(10)"
   ]
  },
  {
   "cell_type": "code",
   "execution_count": 55,
   "id": "84857c10-20f8-4991-97fd-2bc6b12fa16c",
   "metadata": {},
   "outputs": [
    {
     "name": "stdout",
     "output_type": "stream",
     "text": [
      "0\n",
      "1\n",
      "1\n",
      "2\n",
      "3\n",
      "5\n",
      "8\n",
      "13\n",
      "21\n",
      "34\n"
     ]
    }
   ],
   "source": [
    "for i in a :\n",
    "    print(i)"
   ]
  },
  {
   "cell_type": "code",
   "execution_count": 56,
   "id": "1aa0d4ff-de3e-428e-add3-0f474640524b",
   "metadata": {},
   "outputs": [],
   "source": [
    "# Question no 7"
   ]
  },
  {
   "cell_type": "code",
   "execution_count": 61,
   "id": "a5ef0354-98bc-43d3-bd31-f29409dd1635",
   "metadata": {},
   "outputs": [],
   "source": [
    "f = \"pwskills\""
   ]
  },
  {
   "cell_type": "code",
   "execution_count": 62,
   "id": "c5aa8ba8-67fb-4041-838b-fb8528e2cb51",
   "metadata": {},
   "outputs": [
    {
     "data": {
      "text/plain": [
       "['p', 'w', 's', 'k', 'i', 'l', 'l', 's']"
      ]
     },
     "execution_count": 62,
     "metadata": {},
     "output_type": "execute_result"
    }
   ],
   "source": [
    "[i for i in f]"
   ]
  },
  {
   "cell_type": "code",
   "execution_count": 63,
   "id": "8f60247f-e9cb-44b7-bd5a-1a32154a3702",
   "metadata": {},
   "outputs": [],
   "source": [
    "# Question no 8"
   ]
  },
  {
   "cell_type": "code",
   "execution_count": 72,
   "id": "1b013cfc-5a01-4ffe-8d3b-c36aad35522b",
   "metadata": {},
   "outputs": [
    {
     "name": "stdin",
     "output_type": "stream",
     "text": [
      "Enter any number: 121\n"
     ]
    },
    {
     "name": "stdout",
     "output_type": "stream",
     "text": [
      "This is palindrome number\n"
     ]
    }
   ],
   "source": [
    "num=int(input(\"Enter any number:\"))\n",
    "temp=num\n",
    "rev=0\n",
    "while(num>0):\n",
    "    dig=num%10\n",
    "    rev=rev*10+dig\n",
    "    num=num//10\n",
    "if(temp==rev):\n",
    "    print(\"This is palindrome number\")\n",
    "else:\n",
    "    print(\"Not a palindrome!\")"
   ]
  },
  {
   "cell_type": "code",
   "execution_count": 78,
   "id": "6f404c5b-ea00-44cc-bd37-9c4885c73b59",
   "metadata": {},
   "outputs": [],
   "source": [
    "l5 = list(range(1,101))\n"
   ]
  },
  {
   "cell_type": "code",
   "execution_count": 80,
   "id": "70a8600d-6735-4fe6-9e22-afd2dea39def",
   "metadata": {},
   "outputs": [
    {
     "data": {
      "text/plain": [
       "[1,\n",
       " 3,\n",
       " 5,\n",
       " 7,\n",
       " 9,\n",
       " 11,\n",
       " 13,\n",
       " 15,\n",
       " 17,\n",
       " 19,\n",
       " 21,\n",
       " 23,\n",
       " 25,\n",
       " 27,\n",
       " 29,\n",
       " 31,\n",
       " 33,\n",
       " 35,\n",
       " 37,\n",
       " 39,\n",
       " 41,\n",
       " 43,\n",
       " 45,\n",
       " 47,\n",
       " 49,\n",
       " 51,\n",
       " 53,\n",
       " 55,\n",
       " 57,\n",
       " 59,\n",
       " 61,\n",
       " 63,\n",
       " 65,\n",
       " 67,\n",
       " 69,\n",
       " 71,\n",
       " 73,\n",
       " 75,\n",
       " 77,\n",
       " 79,\n",
       " 81,\n",
       " 83,\n",
       " 85,\n",
       " 87,\n",
       " 89,\n",
       " 91,\n",
       " 93,\n",
       " 95,\n",
       " 97,\n",
       " 99]"
      ]
     },
     "execution_count": 80,
     "metadata": {},
     "output_type": "execute_result"
    }
   ],
   "source": [
    "[i for i in l5 if i % 2 != 0]"
   ]
  },
  {
   "cell_type": "code",
   "execution_count": null,
   "id": "ff044c34-0492-4b66-a269-05fd5589b1ee",
   "metadata": {},
   "outputs": [],
   "source": []
  }
 ],
 "metadata": {
  "kernelspec": {
   "display_name": "Python 3 (ipykernel)",
   "language": "python",
   "name": "python3"
  },
  "language_info": {
   "codemirror_mode": {
    "name": "ipython",
    "version": 3
   },
   "file_extension": ".py",
   "mimetype": "text/x-python",
   "name": "python",
   "nbconvert_exporter": "python",
   "pygments_lexer": "ipython3",
   "version": "3.10.8"
  }
 },
 "nbformat": 4,
 "nbformat_minor": 5
}
